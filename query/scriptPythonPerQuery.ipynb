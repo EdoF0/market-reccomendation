{
 "cells": [
  {
   "cell_type": "code",
   "execution_count": 8,
   "id": "52a5d8a6",
   "metadata": {},
   "outputs": [],
   "source": [
    "lista_colonne = []\n",
    "file1 = open('categories1.txt', 'r')\n",
    "\n",
    "lines = file1.readlines()\n",
    "for line in lines:\n",
    "    lista_colonne.append(line.strip())\n",
    "\n",
    "lista_query_no_aggiustamento_no_filtro = []\n",
    "lista_query_no_aggiustamento_filtro = []\n",
    "lista_query_aggiustamento_no_filtro = []\n",
    "lista_query_aggiustamento_filtro = []\n",
    "\n",
    "for colonna in lista_colonne:\n",
    "    lista_query_no_aggiustamento_no_filtro.append(f\"select avg({colonna}) as media from market.market;{colonna};{colonna}\")\n",
    "    for colonna2 in lista_colonne:\n",
    "        if (colonna != colonna2):\n",
    "            lista_query_no_aggiustamento_filtro.append(f\"select avg({colonna}) as media from market.market where {colonna2} > 60 allow filtering;{colonna};{colonna2}\")\n",
    "            lista_query_aggiustamento_no_filtro.append(f\"select avg(({colonna}/(100-{colonna2})) * 100 ) as media from market.market;{colonna};{colonna2}\")\n",
    "            lista_query_aggiustamento_filtro.append(f\"select avg(({colonna}/(100-{colonna2}))*100) as media from market.market where {colonna2} > 60 allow filtering;{colonna};{colonna2}\")"
   ]
  }
 ],
 "metadata": {
  "kernelspec": {
   "display_name": "Python 3",
   "language": "python",
   "name": "python3"
  },
  "language_info": {
   "codemirror_mode": {
    "name": "ipython",
    "version": 3
   },
   "file_extension": ".py",
   "mimetype": "text/x-python",
   "name": "python",
   "nbconvert_exporter": "python",
   "pygments_lexer": "ipython3",
   "version": "3.8.8"
  }
 },
 "nbformat": 4,
 "nbformat_minor": 5
}
